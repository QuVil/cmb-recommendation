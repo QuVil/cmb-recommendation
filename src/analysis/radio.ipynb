{
 "cells": [
  {
   "cell_type": "code",
   "execution_count": 1,
   "metadata": {},
   "outputs": [],
   "source": [
    "import numpy as np\n",
    "import pandas as pd\n",
    "import seaborn as sns\n",
    "import matplotlib.pyplot as plt\n",
    "from scipy import stats"
   ]
  },
  {
   "cell_type": "code",
   "execution_count": 2,
   "metadata": {},
   "outputs": [],
   "source": [
    "FILE_NAME = \"../../data/radio_logs2019.csv\"\n",
    "\n",
    "sns.set_palette(sns.color_palette(\"colorblind\"))\n",
    "sns.set_style(\"darkgrid\")"
   ]
  },
  {
   "cell_type": "code",
   "execution_count": 3,
   "metadata": {},
   "outputs": [
    {
     "name": "stdout",
     "output_type": "stream",
     "text": [
      "Reading data...\n",
      "Data shape: 5529150 lines, 3 columns\n"
     ]
    }
   ],
   "source": [
    "print(\"Reading data...\")\n",
    "data = pd.read_csv(FILE_NAME)\n",
    "print(f\"Data shape: {data.shape[0]} lines, {data.shape[1]} columns\")"
   ]
  },
  {
   "cell_type": "code",
   "execution_count": 4,
   "metadata": {},
   "outputs": [
    {
     "data": {
      "text/html": [
       "<div>\n",
       "<style scoped>\n",
       "    .dataframe tbody tr th:only-of-type {\n",
       "        vertical-align: middle;\n",
       "    }\n",
       "\n",
       "    .dataframe tbody tr th {\n",
       "        vertical-align: top;\n",
       "    }\n",
       "\n",
       "    .dataframe thead th {\n",
       "        text-align: right;\n",
       "    }\n",
       "</style>\n",
       "<table border=\"1\" class=\"dataframe\">\n",
       "  <thead>\n",
       "    <tr style=\"text-align: right;\">\n",
       "      <th></th>\n",
       "      <th>radio</th>\n",
       "      <th>sng_id</th>\n",
       "      <th>ts</th>\n",
       "    </tr>\n",
       "  </thead>\n",
       "  <tbody>\n",
       "    <tr>\n",
       "      <th>0</th>\n",
       "      <td>Jazz Radio</td>\n",
       "      <td>14476372</td>\n",
       "      <td>2020-04-01 12:39:44.000</td>\n",
       "    </tr>\n",
       "    <tr>\n",
       "      <th>1</th>\n",
       "      <td>RTL2</td>\n",
       "      <td>9997018</td>\n",
       "      <td>2020-01-08 08:48:26.000</td>\n",
       "    </tr>\n",
       "    <tr>\n",
       "      <th>2</th>\n",
       "      <td>Ouï FM</td>\n",
       "      <td>9997018</td>\n",
       "      <td>2019-11-14 01:34:49.000</td>\n",
       "    </tr>\n",
       "    <tr>\n",
       "      <th>3</th>\n",
       "      <td>Contact FM</td>\n",
       "      <td>9997018</td>\n",
       "      <td>2018-12-21 13:00:24.000</td>\n",
       "    </tr>\n",
       "    <tr>\n",
       "      <th>4</th>\n",
       "      <td>Contact FM</td>\n",
       "      <td>9997018</td>\n",
       "      <td>2019-02-05 03:43:37.000</td>\n",
       "    </tr>\n",
       "    <tr>\n",
       "      <th>...</th>\n",
       "      <td>...</td>\n",
       "      <td>...</td>\n",
       "      <td>...</td>\n",
       "    </tr>\n",
       "    <tr>\n",
       "      <th>5529145</th>\n",
       "      <td>Contact FM</td>\n",
       "      <td>810557802</td>\n",
       "      <td>2020-03-20 01:00:00.000</td>\n",
       "    </tr>\n",
       "    <tr>\n",
       "      <th>5529146</th>\n",
       "      <td>Contact FM</td>\n",
       "      <td>810557802</td>\n",
       "      <td>2020-03-01 13:19:36.000</td>\n",
       "    </tr>\n",
       "    <tr>\n",
       "      <th>5529147</th>\n",
       "      <td>Champagne FM</td>\n",
       "      <td>810557802</td>\n",
       "      <td>2020-02-15 06:44:55.000</td>\n",
       "    </tr>\n",
       "    <tr>\n",
       "      <th>5529148</th>\n",
       "      <td>Champagne FM</td>\n",
       "      <td>810557802</td>\n",
       "      <td>2020-03-24 14:00:52.000</td>\n",
       "    </tr>\n",
       "    <tr>\n",
       "      <th>5529149</th>\n",
       "      <td>Champagne FM</td>\n",
       "      <td>810557802</td>\n",
       "      <td>2020-03-25 22:24:11.000</td>\n",
       "    </tr>\n",
       "  </tbody>\n",
       "</table>\n",
       "<p>5529150 rows × 3 columns</p>\n",
       "</div>"
      ],
      "text/plain": [
       "                radio     sng_id                       ts\n",
       "0          Jazz Radio   14476372  2020-04-01 12:39:44.000\n",
       "1                RTL2    9997018  2020-01-08 08:48:26.000\n",
       "2              Ouï FM    9997018  2019-11-14 01:34:49.000\n",
       "3          Contact FM    9997018  2018-12-21 13:00:24.000\n",
       "4          Contact FM    9997018  2019-02-05 03:43:37.000\n",
       "...               ...        ...                      ...\n",
       "5529145    Contact FM  810557802  2020-03-20 01:00:00.000\n",
       "5529146    Contact FM  810557802  2020-03-01 13:19:36.000\n",
       "5529147  Champagne FM  810557802  2020-02-15 06:44:55.000\n",
       "5529148  Champagne FM  810557802  2020-03-24 14:00:52.000\n",
       "5529149  Champagne FM  810557802  2020-03-25 22:24:11.000\n",
       "\n",
       "[5529150 rows x 3 columns]"
      ]
     },
     "execution_count": 4,
     "metadata": {},
     "output_type": "execute_result"
    }
   ],
   "source": [
    "data"
   ]
  },
  {
   "cell_type": "code",
   "execution_count": 6,
   "metadata": {},
   "outputs": [],
   "source": [
    "radio_groups = data.groupby([\"radio\", \"sng_id\"]).size()\n",
    "ratios = radio_groups.groupby([\"radio\"]).size().divide(radio_groups.sum(level=\"radio\"))"
   ]
  },
  {
   "cell_type": "code",
   "execution_count": null,
   "metadata": {},
   "outputs": [],
   "source": [
    "rat.to_csv(\"ratios\", index=False)"
   ]
  }
 ],
 "metadata": {
  "kernelspec": {
   "display_name": "Python 3",
   "language": "python",
   "name": "python3"
  },
  "language_info": {
   "codemirror_mode": {
    "name": "ipython",
    "version": 3
   },
   "file_extension": ".py",
   "mimetype": "text/x-python",
   "name": "python",
   "nbconvert_exporter": "python",
   "pygments_lexer": "ipython3",
   "version": "3.8.2"
  }
 },
 "nbformat": 4,
 "nbformat_minor": 4
}
