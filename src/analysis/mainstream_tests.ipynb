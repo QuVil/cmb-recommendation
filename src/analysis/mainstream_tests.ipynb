{
 "cells": [
  {
   "cell_type": "code",
   "execution_count": 1,
   "metadata": {},
   "outputs": [],
   "source": [
    "import itertools\n",
    "import warnings\n",
    "\n",
    "import numpy as np\n",
    "import pandas as pd\n",
    "import seaborn as sns\n",
    "import matplotlib.pyplot as plt\n",
    "from scipy import stats"
   ]
  },
  {
   "cell_type": "code",
   "execution_count": 2,
   "metadata": {},
   "outputs": [],
   "source": [
    "def clean_data(raw, z_threshold=2.5, min_listen_time=20):\n",
    "    \"\"\"\n",
    "    Drops entries with abnormal listening_time (z-score too high or time too low).\n",
    "    Also removes entries with unknown origin\n",
    "    :param min_listen_time: entries where the user has listened for less than this (s) are dropped\n",
    "    :param z_threshold: maximum z-score allowed in the dataset\n",
    "    :param raw: raw data to be processed\n",
    "    :return: clean dataset (pd.DataFrame)\n",
    "    \"\"\"\n",
    "    print(\"Computing z-score...\")\n",
    "    z = np.abs(stats.zscore(raw[\"listening_time\"]))\n",
    "\n",
    "    print(\"Cleaning...\")\n",
    "    # Entries with a z-score above the threshold will be dropped (also instant-skips of listening_time < X)\n",
    "    raw.drop(raw[z > z_threshold].index, inplace=True)\n",
    "    raw.drop(raw[raw.listening_time < min_listen_time].index, inplace=True)\n",
    "    return raw[(raw[\"origin\"] != \"unknown\")]"
   ]
  },
  {
   "cell_type": "code",
   "execution_count": 3,
   "metadata": {},
   "outputs": [],
   "source": [
    "def is_reco(origin):\n",
    "    return origin[:3] == \"rec\" or origin == \"flow\""
   ]
  },
  {
   "cell_type": "code",
   "execution_count": 162,
   "metadata": {},
   "outputs": [],
   "source": [
    "def bin_artists(data, bin_amnt=25, separate_reco=True):\n",
    "    \"\"\"\n",
    "    takes in raw data from streams (with added art_id -- see \"formatting/add_artists.py\") and bins artists together\n",
    "    according to their \"mainstream\" status -- i.e. how much they are listened to.\n",
    "    :param bin_amnt: amount of bins the artists will be put into AT MOST\n",
    "    :param separate_reco: Whether or not to add a \"recommended\" column to the DF\n",
    "    :param data: DataFrame [\"user_id\", \"ts\", \"sng_id\", \"album_id\", \"listening_time\", \"listen_type\", \"origin\", \"art_id\"]\n",
    "    :return: the same DataFrame with added columns [..., \"bin_nb\", \"recommended\"] -- unless recommended is not wanted\n",
    "    \"\"\"\n",
    "    print(\"Counting artist occurences...\")\n",
    "    artist_count = data[\"art_id\"].value_counts(normalize=False).sort_values(ascending=True).to_frame() \\\n",
    "        .reset_index().rename(columns={\"index\": \"art_id\", \"art_id\": \"plays\"})\n",
    "    artist_count[\"cumplays\"] = artist_count[\"plays\"].cumsum()\n",
    "\n",
    "    print(\"Binning artists...\")\n",
    "    # Cutting into bin_amnt bins (duplicate bins allowed -- and necessary for small datasets and large amount of bins)\n",
    "    artist_count[\"bin\"] = pd.cut(artist_count[\"cumplays\"], bin_amnt, duplicates=\"drop\")\n",
    "    print(f\"Number of artists per bin: \\n{artist_count.groupby('bin').size()}\")\n",
    "\n",
    "    # Assigning corresponding numbers to bins\n",
    "    artist_count[\"bin_nb\"] = (artist_count[\"bin\"].cat.codes + 1).values\n",
    "    print(f\"Artists binned into {artist_count['bin_nb'].max()} categories.\")\n",
    "\n",
    "    data = data.merge(artist_count[[\"art_id\", \"bin_nb\"]], left_on=\"art_id\", right_on=\"art_id\")\n",
    "\n",
    "    # Adding 'recommended' column\n",
    "    if separate_reco:\n",
    "        data[\"recommended\"] = data[\"origin\"].map(is_reco)\n",
    "\n",
    "    return data"
   ]
  },
  {
   "cell_type": "code",
   "execution_count": 102,
   "metadata": {
    "jupyter": {
     "source_hidden": true
    }
   },
   "outputs": [],
   "source": [
    "FILE_NAME = \"../../data/artist_streams.csv\"\n",
    "SAVE_NAME = \"../../data/mainstream_data.csv\"\n",
    "MIN_OBS = 100\n",
    "SEPARATE_RECO = False\n",
    "BIN_AMNT = 20\n",
    "\n",
    "sns.set_palette(sns.color_palette(\"colorblind\"))\n",
    "sns.set_style(\"darkgrid\")"
   ]
  },
  {
   "cell_type": "code",
   "execution_count": 103,
   "metadata": {
    "jupyter": {
     "source_hidden": true
    }
   },
   "outputs": [
    {
     "name": "stdout",
     "output_type": "stream",
     "text": [
      "Reading data...\n",
      "Computing z-score...\n",
      "Cleaning...\n",
      "Data shape: 1368080 lines, 8 columns\n"
     ]
    }
   ],
   "source": [
    "print(\"Reading data...\")\n",
    "raw_data = pd.read_csv(FILE_NAME)\n",
    "raw_data = clean_data(raw_data, z_threshold=3)\n",
    "print(f\"Data shape: {raw_data.shape[0]} lines, {raw_data.shape[1]} columns\")"
   ]
  },
  {
   "cell_type": "code",
   "execution_count": 163,
   "metadata": {},
   "outputs": [
    {
     "name": "stdout",
     "output_type": "stream",
     "text": [
      "Counting artist occurences...\n",
      "Binning artists...\n",
      "Number of artists per bin: \n",
      "bin\n",
      "(-1367.079, 68404.95]      5753\n",
      "(68404.95, 136808.9]        942\n",
      "(136808.9, 205212.85]       486\n",
      "(205212.85, 273616.8]       298\n",
      "(273616.8, 342020.75]       200\n",
      "(342020.75, 410424.7]       140\n",
      "(410424.7, 478828.65]       104\n",
      "(478828.65, 547232.6]        80\n",
      "(547232.6, 615636.55]        63\n",
      "(615636.55, 684040.5]        50\n",
      "(684040.5, 752444.45]        40\n",
      "(752444.45, 820848.4]        32\n",
      "(820848.4, 889252.35]        25\n",
      "(889252.35, 957656.3]        20\n",
      "(957656.3, 1026060.25]       18\n",
      "(1026060.25, 1094464.2]      14\n",
      "(1094464.2, 1162868.15]      12\n",
      "(1162868.15, 1231272.1]       8\n",
      "(1231272.1, 1299676.05]       6\n",
      "(1299676.05, 1368080.0]       4\n",
      "dtype: int64\n",
      "Artists binned into 20 categories.\n",
      "Standard deviation of amount of plays per bin: 2978.763535428752\n"
     ]
    }
   ],
   "source": [
    "# Bin artists together\n",
    "artist_data = bin_artists(raw_data, BIN_AMNT, SEPARATE_RECO)\n",
    "\n",
    "print(f\"Standard deviation of amount of plays per bin: {np.std(artist_data.groupby(['bin_nb']).size().values)}\")"
   ]
  },
  {
   "cell_type": "code",
   "execution_count": 164,
   "metadata": {},
   "outputs": [],
   "source": [
    " # Occurences of music plays in each bin\n",
    "bin_distrib = artist_data.groupby(\"bin_nb\").size()\n",
    "\n",
    "# Normalized\n",
    "bin_distrib /= bin_distrib.sum()\n",
    "# Grouping users and their artist bin consumption\n",
    "main_dist = artist_data.groupby([\"user_id\", \"recommended\", \"bin_nb\"] if SEPARATE_RECO\n",
    "                                else [\"user_id\", \"bin_nb\"]).size()"
   ]
  },
  {
   "cell_type": "code",
   "execution_count": 165,
   "metadata": {},
   "outputs": [
    {
     "name": "stdout",
     "output_type": "stream",
     "text": [
      "Removing users with fewer than 100 observations...\n",
      "Removed 9 users.\n"
     ]
    }
   ],
   "source": [
    "print(f\"Removing users with fewer than {MIN_OBS} observations...\")\n",
    "remove_idx = artist_data.groupby([\"user_id\"]).size()\n",
    "remove_idx = remove_idx[remove_idx < MIN_OBS].index.unique()\n",
    "\n",
    "main_dist.drop(labels=remove_idx, inplace=True)\n",
    "print(f\"Removed {len(remove_idx)} users.\")"
   ]
  },
  {
   "cell_type": "code",
   "execution_count": 166,
   "metadata": {},
   "outputs": [
    {
     "name": "stdout",
     "output_type": "stream",
     "text": [
      "Analyzing users...\n"
     ]
    }
   ],
   "source": [
    "print(\"Analyzing users...\")\n",
    "test_users = np.random.choice(main_dist.index.get_level_values(\"user_id\").unique(), 6, replace=False)\n",
    "recommended_choices = [True, False]\n",
    "aggregate = pd.DataFrame(columns=[\"user_id\", \"recommended\", \"bin_nb\", \"ratio\"])"
   ]
  },
  {
   "cell_type": "code",
   "execution_count": 173,
   "metadata": {},
   "outputs": [
    {
     "data": {
      "text/html": [
       "<div>\n",
       "<style scoped>\n",
       "    .dataframe tbody tr th:only-of-type {\n",
       "        vertical-align: middle;\n",
       "    }\n",
       "\n",
       "    .dataframe tbody tr th {\n",
       "        vertical-align: top;\n",
       "    }\n",
       "\n",
       "    .dataframe thead th {\n",
       "        text-align: right;\n",
       "    }\n",
       "</style>\n",
       "<table border=\"1\" class=\"dataframe\">\n",
       "  <thead>\n",
       "    <tr style=\"text-align: right;\">\n",
       "      <th></th>\n",
       "      <th></th>\n",
       "      <th>ratio</th>\n",
       "    </tr>\n",
       "    <tr>\n",
       "      <th>user_id</th>\n",
       "      <th>bin_nb</th>\n",
       "      <th></th>\n",
       "    </tr>\n",
       "  </thead>\n",
       "  <tbody>\n",
       "    <tr>\n",
       "      <th rowspan=\"5\" valign=\"top\">00877d231a1d10859eefd4288ecc493fd1ea3589</th>\n",
       "      <th>1</th>\n",
       "      <td>-0.494151</td>\n",
       "    </tr>\n",
       "    <tr>\n",
       "      <th>2</th>\n",
       "      <td>-0.493537</td>\n",
       "    </tr>\n",
       "    <tr>\n",
       "      <th>3</th>\n",
       "      <td>0.214329</td>\n",
       "    </tr>\n",
       "    <tr>\n",
       "      <th>4</th>\n",
       "      <td>-0.031856</td>\n",
       "    </tr>\n",
       "    <tr>\n",
       "      <th>5</th>\n",
       "      <td>0.268781</td>\n",
       "    </tr>\n",
       "    <tr>\n",
       "      <th>...</th>\n",
       "      <th>...</th>\n",
       "      <td>...</td>\n",
       "    </tr>\n",
       "    <tr>\n",
       "      <th rowspan=\"5\" valign=\"top\">ff82befb6c2bcf11c638706bc27cf787128426de</th>\n",
       "      <th>16</th>\n",
       "      <td>0.181656</td>\n",
       "    </tr>\n",
       "    <tr>\n",
       "      <th>17</th>\n",
       "      <td>-0.132515</td>\n",
       "    </tr>\n",
       "    <tr>\n",
       "      <th>18</th>\n",
       "      <td>-1.333113</td>\n",
       "    </tr>\n",
       "    <tr>\n",
       "      <th>19</th>\n",
       "      <td>-1.340343</td>\n",
       "    </tr>\n",
       "    <tr>\n",
       "      <th>20</th>\n",
       "      <td>-0.021507</td>\n",
       "    </tr>\n",
       "  </tbody>\n",
       "</table>\n",
       "<p>19362 rows × 1 columns</p>\n",
       "</div>"
      ],
      "text/plain": [
       "                                                    ratio\n",
       "user_id                                  bin_nb          \n",
       "00877d231a1d10859eefd4288ecc493fd1ea3589 1      -0.494151\n",
       "                                         2      -0.493537\n",
       "                                         3       0.214329\n",
       "                                         4      -0.031856\n",
       "                                         5       0.268781\n",
       "...                                                   ...\n",
       "ff82befb6c2bcf11c638706bc27cf787128426de 16      0.181656\n",
       "                                         17     -0.132515\n",
       "                                         18     -1.333113\n",
       "                                         19     -1.340343\n",
       "                                         20     -0.021507\n",
       "\n",
       "[19362 rows x 1 columns]"
      ]
     },
     "execution_count": 173,
     "metadata": {},
     "output_type": "execute_result"
    }
   ],
   "source": [
    "# Vectorized computing of the users' bin ratios\n",
    "user_frame = main_dist.to_frame()\n",
    "user_frame.columns = [\"ratio\"]\n",
    "\n",
    "# user_frame ends up with [user, bin_nb, ratio] \n",
    "user_plays = user_frame[\"ratio\"].sum(level=0)\n",
    "user_frame = user_frame.unstack('bin_nb').divide(bin_distrib, level=1).divide(user_plays, axis=0).stack(\"bin_nb\")\n",
    "\n",
    "user_frame[\"ratio\"] = user_frame[\"ratio\"].map(np.log)\n",
    "user_frame"
   ]
  },
  {
   "cell_type": "code",
   "execution_count": null,
   "metadata": {},
   "outputs": [],
   "source": []
  },
  {
   "cell_type": "markdown",
   "metadata": {},
   "source": [
    "## bin_distrib"
   ]
  },
  {
   "cell_type": "code",
   "execution_count": 91,
   "metadata": {},
   "outputs": [],
   "source": [
    "# Ratio calc loop\n",
    "for user, reco in itertools.product(test_users, recommended_choices):\n",
    "    # In case of no separation, we pass half of the iterations, which become useless\n",
    "    if SEPARATE_RECO and reco:\n",
    "        pass\n",
    "    try:\n",
    "        # to_frame() may raise an error on account of the data being size 1 (an int64 cannot be framed)\n",
    "        if SEPARATE_RECO:\n",
    "            user_dist = main_dist.loc[(user, reco)].to_frame()\n",
    "        else:\n",
    "            user_dist = main_dist[user].to_frame()\n",
    "        user_dist.columns = [\"ratio\"]\n",
    "\n",
    "        # Normalizing with regards to \"average\" consumption\n",
    "        user_dist[\"ratio\"] /= bin_distrib * user_dist[\"ratio\"].sum()\n",
    "\n",
    "        # Log\n",
    "        user_dist[\"ratio\"] = np.log(user_dist[\"ratio\"])\n",
    "\n",
    "        # Adding data to total frame for later seaborn plotting (useless for quick-and-dirty mpl)\n",
    "        user_dist = user_dist.reset_index()\n",
    "        user_dist[\"user_id\"] = user\n",
    "        user_dist[\"recommended\"] = reco\n",
    "        aggregate = pd.concat([aggregate, user_dist], ignore_index=True)\n",
    "    except AttributeError as e:\n",
    "        warnings.warn(f\"User data of size 1 ignored for user {user}, recommended {reco}\")\n",
    "        pass"
   ]
  },
  {
   "cell_type": "code",
   "execution_count": 92,
   "metadata": {},
   "outputs": [
    {
     "data": {
      "image/png": "[encoded data removed]",
      "text/plain": [
       "<Figure size 1080x720 with 6 Axes>"
      ]
     },
     "metadata": {},
     "output_type": "display_data"
    }
   ],
   "source": [
    "if not SEPARATE_RECO:\n",
    "    sns.relplot(x=\"bin_nb\", y=\"ratio\", kind=\"line\", col=\"user_id\", col_wrap=3, dashes=False, markers=True,\n",
    "                estimator=None, data=aggregate, legend=False, style=\"recommended\")\n",
    "else:\n",
    "    sns.relplot(x=\"bin_nb\", y=\"ratio\", hue=\"recommended\", style=\"recommended\", kind=\"line\", col=\"user_id\",\n",
    "                col_wrap=3, dashes=False, markers=True, estimator=None, data=aggregate, legend=\"brief\")\n",
    "sns.despine()\n",
    "plt.show()"
   ]
  },
  {
   "cell_type": "code",
   "execution_count": null,
   "metadata": {},
   "outputs": [],
   "source": []
  }
 ],
 "metadata": {
  "kernelspec": {
   "display_name": "Python 3",
   "language": "python",
   "name": "python3"
  },
  "language_info": {
   "codemirror_mode": {
    "name": "ipython",
    "version": 3
   },
   "file_extension": ".py",
   "mimetype": "text/x-python",
   "name": "python",
   "nbconvert_exporter": "python",
   "pygments_lexer": "ipython3",
   "version": "3.8.2"
  }
 },
 "nbformat": 4,
 "nbformat_minor": 4
}
